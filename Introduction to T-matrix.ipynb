{
 "cells": [
  {
   "cell_type": "markdown",
   "metadata": {},
   "source": [
    "# Introduction to T-Matrix\n",
    "\n",
    "This notebook investigates the use of the pymatrix T-matrix code for simulating polarimetric observables in rain.\n",
    "\n",
    "The code was originally developed by Barber and Yeh (1991); this implementation uses code developed by M. I. Mishchenko and L. D. Travis from NASA Goddard Institute for Space Studies as implemented in python by Jussi Leionen from NASA Jet Propulsion Laboratory.\n",
    "\n",
    "## Installing pytmatrix\n",
    "\n",
    "The webpage for pytmatrix is hosted on [github](https://www.google.com)\n",
    "\n",
    "\n",
    "The code may not install using the typical `pip` install, but you can first try\n",
    "```bash\n",
    "$ sudo pip install pytmatrix\n",
    "```\n",
    "\n",
    "If that fails, you can install the source yourself\n",
    "```bash\n",
    "$ git clone https://github.com/jleinonen/pytmatrix.git\n",
    "$ cd pytmatrix\n",
    "$ python setup.py install\n",
    "```\n",
    "\n",
    "It's always a good idea to test simulation code after installation, and this can be done easily."
   ]
  },
  {
   "cell_type": "code",
   "execution_count": 150,
   "metadata": {
    "collapsed": false
   },
   "outputs": [
    {
     "name": "stderr",
     "output_type": "stream",
     "text": [
      "test_adaptive_orient (pytmatrix.test.test_tmatrix.TMatrixTests)\n",
      "Test an adaptive orientation averaging case ... ok\n",
      "test_against_mie (pytmatrix.test.test_tmatrix.TMatrixTests)\n",
      "Test scattering parameters against Mie results ... ok\n",
      "test_asymmetry (pytmatrix.test.test_tmatrix.TMatrixTests)\n",
      "Test calculation of the asymmetry parameter ... ok\n",
      "test_fixed_orient (pytmatrix.test.test_tmatrix.TMatrixTests)\n",
      "Test a fixed-point orientation averaging case ... ok\n",
      "test_integrated_x_sca (pytmatrix.test.test_tmatrix.TMatrixTests)\n",
      "Test Rayleigh scattering cross section integrated over sizes. ... ok\n",
      "test_optical_theorem (pytmatrix.test.test_tmatrix.TMatrixTests)\n",
      "Optical theorem: test that for a lossless particle, Csca=Cext ... ok\n",
      "test_psd (pytmatrix.test.test_tmatrix.TMatrixTests)\n",
      "Test a case that integrates over a particle size distribution ... ok\n",
      "test_radar (pytmatrix.test.test_tmatrix.TMatrixTests)\n",
      "Test that the radar properties are computed correctly ... ok\n",
      "test_rayleigh (pytmatrix.test.test_tmatrix.TMatrixTests)\n",
      "Test match with Rayleigh scattering for small spheres ... ok\n",
      "test_single (pytmatrix.test.test_tmatrix.TMatrixTests)\n",
      "Test a single-orientation case ... ok\n",
      "\n",
      "----------------------------------------------------------------------\n",
      "Ran 10 tests in 12.980s\n",
      "\n",
      "OK\n"
     ]
    }
   ],
   "source": [
    "from pytmatrix.test import test_tmatrix\n",
    "test_tmatrix.run_tests()"
   ]
  },
  {
   "cell_type": "markdown",
   "metadata": {},
   "source": [
    "The test will report success if the accuracy of the simulations is acceptable.\n",
    "\n",
    "## What is T-matrix?\n",
    "\n",
    "T-matrix, as implemented here, is a computationally efficient method to numerically determine the scattering and absorption properties of elliptically shaped particles (with a given axis ratio defined as D_minor/D_major), with a given refractive index, mean canting angle, and standard deviation of canting angle.\n",
    "\n",
    "The code has been shown to perform well compared with more advanced scattering codes for axis rations > 0.2, which fortunately covers the natural variations in axis ratios for raindrops.\n",
    "\n",
    "## How do we model droplet shape?\n",
    "\n",
    "Due to aerodynamic forces, rain droplets take on an oblate shape as they exceed ~0.7 mm in equivalent volume diameter (defined as the equivalent diameter a spherical droplet would have if it had the same volume as a non-spherical droplet).  Turbulence and the internal dynamics of droplets also cause oscillations in droplets, and droplets tend to break up at sizes greater than 5-6 mm.  Droplets up to nearly 10 mm have been observed, typically stabilized by ice cores (i.e. melting hail).\n",
    "![alt text](http://upload.wikimedia.org/wikipedia/commons/thumb/5/57/Raindrops_sizes.svg/500px-Raindrops_sizes.svg.png \"Raindrop_sizes\")\n",
    "\n",
    "Laboratory measurements, aircraft probe data, and surface video disdrometer data have been used to quantify the droplet axis ratio as a function of size.  Work using the 2-D Video Disdrometer (2DVD) has provided the highest quality data to date of the shapes of raindrops.\n",
    "\n",
    "The 2DVD uses two orthogonal line scan cameras to image drops that fall into its 10 x 10 cm viewing area.\n",
    "<img src=\"http://www.iac.ethz.ch/en/groups/richner/cd/doc/optisch/2d-video-distrometer.jpg\" alt=\"2DVD\" style=\"width: 400px;\"/>\n",
    "\n",
    "An example image from the 2DVD is shown here:\n",
    "<img src=\"http://earthobservatory.nasa.gov/blogs/fromthefield/files/2013/05/IFloodS_2dvdsn37_468.jpg\" alt=\"2DVD example\" style=\"width: 600px;\"/>"
   ]
  },
  {
   "cell_type": "markdown",
   "metadata": {},
   "source": [
    "##Emprical models of droplet shape\n",
    "Numerous studies have developed models of raindrop shape as a function of size.  Significant uncertainty exists in the larger droplet sizes due to measurement uncertainties as well as statistical sampling error.  Also, the results of laboratory and field studies disagree, it is thought that this may be due to turbulent effects on the droplet shape as well as the need for droplets to relax to their natural shapes (which requires a significant fall distance for artifical drops).\n",
    "\n",
    "A recent study of droplet shape using artifical drops was led by Merhala Thurai from Colorado State University:\n",
    "\n",
    "Thurai, M., G.J. Huang, V.N. Bringi, W. L. Randeu and M. Schönhuber, 2007: Drop Shapes, Model Comparisons, and Calculations of Polarimetric Radar Parameters in Rain, *J. Atmos. Ocean. Tech.*, **24**, 6, 1019-1032. (<a href=\"http://journals.ametsoc.org/doi/abs/10.1175/JTECH2051.1\">link</a>)\n",
    "\n",
    "Images of droplets were composited to form statistical distributions of droplet shape:\n",
    "<img src=\"http://journals.ametsoc.org/na101/home/literatum/publisher/ams/journals/content/atot/2007/15200426-24.6/jtech2051.1/production/images/medium/i1520-0426-24-6-1019-f01.jpg\" alt=\"2DVD example\";/>\n",
    "\n",
    "From their results, the following expressions can be used to calculate the axis ratios depending on equivalent diameter $D_{eq}$:\n",
    "\n",
    "$$D_{eq} < 0.7 \\text{ mm :}$$\n",
    "$$a/b = 1.0$$\n",
    "\n",
    "$$0.7 \\le D_{eq} < 1.5 \\text{ mm :}$$\n",
    "$$a/b = 1.173 - 0.5165D_{eq} + 0.4698D_{eq}^{2} - 0.1317D_{eq}^{3} - 8.5\\times 10^{-3}D_{eq}^{4} $$\n",
    "\n",
    "$$D_{eq} \\ge 1.5 \\text{ mm :}$$\n",
    "$$a/b = 1.065 - 6.25\\times 10^{-2}D_{eq} - 3.99\\times 10^{3}D_{eq}^2 + 7.66\\times 10^{-4}D_{eq}^{3} - 4.095\\times 10^{-5}D_{eq}^4$$ \n",
    "\n",
    "Using the droplet size and shape model, and assumptions about droplet canting and its distribution, we can use T-matrix to calculate the polarimetric observables.\n",
    "\n",
    "Let's get started!"
   ]
  },
  {
   "cell_type": "code",
   "execution_count": null,
   "metadata": {
    "collapsed": true
   },
   "outputs": [],
   "source": []
  },
  {
   "cell_type": "code",
   "execution_count": null,
   "metadata": {
    "collapsed": true
   },
   "outputs": [],
   "source": []
  },
  {
   "cell_type": "code",
   "execution_count": null,
   "metadata": {
    "collapsed": true
   },
   "outputs": [],
   "source": []
  },
  {
   "cell_type": "code",
   "execution_count": null,
   "metadata": {
    "collapsed": true
   },
   "outputs": [],
   "source": []
  },
  {
   "cell_type": "code",
   "execution_count": 1,
   "metadata": {
    "collapsed": false
   },
   "outputs": [],
   "source": [
    "%matplotlib inline\n",
    "from matplotlib import pyplot as plt\n",
    "import numpy as np\n",
    "from scipy import constants\n",
    "from pytmatrix.tmatrix import Scatterer\n",
    "from pytmatrix import psd, orientation, radar, tmatrix_aux, refractive"
   ]
  },
  {
   "cell_type": "markdown",
   "metadata": {},
   "source": [
    "We define a scatterer class to define a particle.  Here we do a single particle."
   ]
  },
  {
   "cell_type": "code",
   "execution_count": 152,
   "metadata": {
    "collapsed": false
   },
   "outputs": [],
   "source": [
    "scatterer = Scatterer(radius=2.0, wavelength=5.3, m=complex(1.5, 0.5), axis_ratio=1.0/0.6)"
   ]
  },
  {
   "cell_type": "markdown",
   "metadata": {},
   "source": [
    "Let's run the model and get the amplitude scattering matrix."
   ]
  },
  {
   "cell_type": "code",
   "execution_count": 153,
   "metadata": {
    "collapsed": false
   },
   "outputs": [
    {
     "data": {
      "text/plain": [
       "array([[ -8.59466680e-02 -1.90234930e-01j,\n",
       "          3.35609035e-24 -2.59281464e-24j],\n",
       "       [ -3.35537274e-24 +2.59409321e-24j,\n",
       "         -3.70011592e-02 +2.00078313e-01j]])"
      ]
     },
     "execution_count": 153,
     "metadata": {},
     "output_type": "execute_result"
    }
   ],
   "source": [
    "scatterer.get_S()"
   ]
  },
  {
   "cell_type": "markdown",
   "metadata": {},
   "source": [
    "Get the scattering and phase matrix at once."
   ]
  },
  {
   "cell_type": "code",
   "execution_count": 154,
   "metadata": {
    "collapsed": false
   },
   "outputs": [
    {
     "data": {
      "text/plain": [
       "(array([[ -8.59466680e-02 -1.90234930e-01j,\n",
       "           3.35609035e-24 -2.59281464e-24j],\n",
       "        [ -3.35537274e-24 +2.59409321e-24j,\n",
       "          -3.70011592e-02 +2.00078313e-01j]]),\n",
       " array([[  4.24882877e-02,   1.08787076e-03,  -8.47973602e-25,\n",
       "           2.85936533e-25],\n",
       "        [  1.08787076e-03,   4.24882877e-02,   4.38375342e-25,\n",
       "           1.43664225e-24],\n",
       "        [  8.48049246e-25,  -4.37841178e-25,  -3.48817575e-02,\n",
       "           2.42349772e-02],\n",
       "        [  2.85719020e-25,   1.43680651e-24,  -2.42349772e-02,\n",
       "          -3.48817575e-02]]))"
      ]
     },
     "execution_count": 154,
     "metadata": {},
     "output_type": "execute_result"
    }
   ],
   "source": [
    "scatterer.get_SZ()"
   ]
  },
  {
   "cell_type": "markdown",
   "metadata": {},
   "source": [
    "Demonstrate the use of the orientation pdf."
   ]
  },
  {
   "cell_type": "code",
   "execution_count": 155,
   "metadata": {
    "collapsed": false
   },
   "outputs": [
    {
     "data": {
      "text/plain": [
       "array([[  6.49005717e-02 -2.42488000e-01j,\n",
       "         -6.13348032e-16 -4.11094414e-15j],\n",
       "       [ -1.50045335e-14 -1.63765221e-15j,\n",
       "         -9.54176591e-02 +2.84758322e-01j]])"
      ]
     },
     "execution_count": 155,
     "metadata": {},
     "output_type": "execute_result"
    }
   ],
   "source": [
    "scatterer = Scatterer(radius=2.0, wavelength=6.5, m=complex(1.5,0.5), axis_ratio=1.0/0.6)\n",
    "scatterer.or_pdf = orientation.gaussian_pdf(std=20.0)\n",
    "scatterer.orient = orientation.orient_averaged_adaptive\n",
    "scatterer.get_S()\n"
   ]
  },
  {
   "cell_type": "markdown",
   "metadata": {},
   "source": [
    "Demonstrate the use of the Gamma PSD for a size distribution of particles."
   ]
  },
  {
   "cell_type": "code",
   "execution_count": 30,
   "metadata": {
    "collapsed": false
   },
   "outputs": [
    {
     "data": {
      "text/plain": [
       "array([[  7.20539942e-02,  -1.54020511e-02,  -9.96254906e-25,\n",
       "          8.34272669e-26],\n",
       "       [ -1.54020511e-02,   7.20539942e-02,   1.23283189e-25,\n",
       "          1.40052500e-25],\n",
       "       [  9.96257383e-25,  -1.23295004e-25,  -6.89738802e-02,\n",
       "          1.38873117e-02],\n",
       "       [  8.34164328e-26,   1.40052281e-25,  -1.38873117e-02,\n",
       "         -6.89738802e-02]])"
      ]
     },
     "execution_count": 30,
     "metadata": {},
     "output_type": "execute_result"
    }
   ],
   "source": [
    "scatterer = Scatterer(wavelength=6.5, m=complex(1.5,0.5), axis_ratio=1.0/0.6)\n",
    "scatterer.psd_integrator = psd.PSDIntegrator()\n",
    "scatterer.psd = psd.GammaPSD(D0=1.0, Nw=1e3, mu=4)\n",
    "scatterer.psd_integrator.D_max = 10.0\n",
    "scatterer.psd_integrator.init_scatter_table(scatterer)\n",
    "scatterer.get_Z()\n"
   ]
  },
  {
   "cell_type": "markdown",
   "metadata": {},
   "source": [
    "Now, use the radar module to calculate the radar parameters for a known problem.  1000 1-mm drops per meter cubed = 30 dBZ.  Assume spherical drops."
   ]
  },
  {
   "cell_type": "code",
   "execution_count": 2,
   "metadata": {
    "collapsed": false
   },
   "outputs": [
    {
     "name": "stdout",
     "output_type": "stream",
     "text": [
      "Rayleigh reflectivity (Z_e): 1000.0\n",
      "Rayleigh reflectivity (dBZ_e): 30.0\n",
      "Horizontal reflectivity (Z_e): 1536.75816468\n",
      "Horizontal reflectivity factor (dBZ_e): 31.8660552917\n",
      "Differential reflectivity (dB): 5.01635382292\n",
      "Linear depolarization ratio (dB): nan\n",
      "Rho_hv (unitless): 0.999999999911\n",
      "Specific differential phase (deg/km): 2.79463718423\n",
      "Backscatter differential phase (deg/km): 0.478496437841\n",
      "Specific attenuation (dBZ/km): 0.0216643882476\n"
     ]
    },
    {
     "name": "stderr",
     "output_type": "stream",
     "text": [
      "/net/san-a1-ib/data/keeling/a/snesbitt/anaconda/lib/python2.7/site-packages/IPython/kernel/__main__.py:27: RuntimeWarning: invalid value encountered in log10\n"
     ]
    }
   ],
   "source": [
    "#test for known quantity\n",
    "bins=[.99,1.01]\n",
    "bins_mid=[1.0]\n",
    "dsd=[1000./.02] #mm**-1 m**-3\n",
    "\n",
    "#Calculate rayleigh reflectivity\n",
    "#sum N(D)dD*D**6\n",
    "ray_Z=np.sum(np.multiply(dsd*np.diff(bins),np.power(bins_mid,6.)))\n",
    "\n",
    "\n",
    "scatterer = Scatterer(wavelength=tmatrix_aux.wl_C, m=refractive.m_w_10C[tmatrix_aux.wl_C], axis_ratio=1.0/0.6)\n",
    "#scatterer = Scatterer(wavelength=6.5, m=complex(1.5,0.5), axis_ratio=1.0/0.6)\n",
    "scatterer.psd_integrator = psd.PSDIntegrator()\n",
    "scatterer.psd_integrator.D_max = 10.0\n",
    "scatterer.psd_integrator.geometries = (tmatrix_aux.geom_horiz_back, tmatrix_aux.geom_horiz_forw)\n",
    "scatterer.psd_integrator.init_scatter_table(scatterer)\n",
    "scatterer.orient = orientation.orient_averaged_fixed\n",
    "scatterer.psd = psd.BinnedPSD(bins,dsd)\n",
    "scatterer.get_Z()\n",
    "print \"Rayleigh reflectivity (Z_e): \"+str(ray_Z)\n",
    "print \"Rayleigh reflectivity (dBZ_e): \"+str(10.*np.log10(ray_Z))\n",
    "print \"Horizontal reflectivity (Z_e): \"+str(radar.refl(scatterer))\n",
    "#convert to log units\n",
    "print \"Horizontal reflectivity factor (dBZ_e): \"+str(10.*np.log10(radar.refl(scatterer)))\n",
    "print \"Differential reflectivity (dB): \"+str(10.*np.log10(radar.Zdr(scatterer)))\n",
    "\n",
    "print \"Linear depolarization ratio (dB): \"+str(10.*np.log10(radar.ldr(scatterer)))\n",
    "print \"Rho_hv (unitless): \"+str(radar.rho_hv(scatterer))\n",
    "#need to set this for Kdp calculation to set geometry\n",
    "scatterer.set_geometry(tmatrix_aux.geom_horiz_forw)\n",
    "print \"Specific differential phase (deg/km): \"+str(radar.Kdp(scatterer))\n",
    "#convert into traditional sense; add 180.\n",
    "print \"Backscatter differential phase (deg/km): \"+str(180.+np.rad2deg(radar.delta_hv(scatterer)))\n",
    "\n",
    "print \"Specific attenuation (dBZ/km): \"+str(radar.Ai(scatterer))\n"
   ]
  },
  {
   "cell_type": "markdown",
   "metadata": {},
   "source": [
    "Now, use an observed particle size distribution and the Thurai drop shape model.  You can try turning on the canting angle distribution.  Note that orientation averaging is turned on to average the signal across incidence angles."
   ]
  },
  {
   "cell_type": "code",
   "execution_count": 3,
   "metadata": {
    "collapsed": false
   },
   "outputs": [
    {
     "name": "stdout",
     "output_type": "stream",
     "text": [
      "Rayleigh reflectivity (Z_e): 187422.947908\n",
      "Rayleigh reflectivity (dBZ_e): 52.7282276446\n",
      "Horizontal reflectivity (Z_e): 306324.153497\n",
      "Horizontal reflectivity factor (dBZ_e): 54.8618124205\n",
      "Differential reflectivity (dB): 4.43649165764\n",
      "Linear depolarization ratio (dB): -inf\n",
      "Rho_hv (unitless): 0.964400470409\n",
      "Specific differential phase (deg/km): 3.61876623024\n",
      "Backscatter differential phase (deg/km): 3.61173466407\n",
      "Specific attenuation (deg/km): 0.549466492532\n"
     ]
    },
    {
     "name": "stderr",
     "output_type": "stream",
     "text": [
      "/net/san-a1-ib/data/keeling/a/snesbitt/anaconda/lib/python2.7/site-packages/IPython/kernel/__main__.py:63: RuntimeWarning: divide by zero encountered in log10\n"
     ]
    }
   ],
   "source": [
    "### DSD obs from a Parsivel2 disdrometer in Finland during LPVEX (rain case)  units:mm**-1 m**-3\n",
    "dsd=np.array([   0.    ,    0.    ,   77.6576,  254.0345,  441.4923,  393.8862,\n",
    "        534.6022,  493.5842,  258.9568,  155.7294,  115.5232,   57.1851,\n",
    "         38.8442,   30.7712,   29.0522,   29.5414,   35.4124,   12.3951,\n",
    "          3.5907,    4.2942,    1.0822,    0.    ,    0.    ,    0.    ,\n",
    "          0.    ,    0.    ,    0.    ,    0.    ,    0.    ,    0.    ,\n",
    "          0.    ,    0.    ])\n",
    "#bins in mm\n",
    "bins=np.array([  0.062,   0.187,   0.312,   0.437,   0.562,   0.687,   0.812,\n",
    "         0.937,   1.062,   1.187,   1.312,   1.625,   1.875,   2.125,\n",
    "         2.375,   2.625,   3.25 ,   3.75 ,   4.25 ,   4.75 ,   5.25 ,\n",
    "         6.5  ,   7.5  ,   8.5  ,   9.5  ,  10.5  ,  13.   ,  15.   ,\n",
    "        17.   ,  19.   ,  21.   ,  24.5  ,  27.5  ])\n",
    "bins_mid=np.array([  0.1245,   0.2495,   0.3745,   0.4995,   0.6245,   0.7495,\n",
    "         0.8745,   0.9995,   1.1245,   1.2495,   1.5   ,   1.75  ,\n",
    "         2.    ,   2.25  ,   2.5   ,   3.    ,   3.5   ,   4.    ,\n",
    "         4.5   ,   5.    ,   6.    ,   7.    ,   8.    ,   9.    ,\n",
    "        10.    ,  12.    ,  14.    ,  16.    ,  18.    ,  20.    ,\n",
    "        23.    ,  26.    ])\n",
    "bins_width=np.array([ 0.2,  0.4,  0.6,  0.8,  1. ,  1.2,  1.4,  1.6,  1.8,  2. ,  2.2,\n",
    "        2.4,  2.6,  2.8,  3. ,  3.2,  3.4,  3.6,  3.8,  4. ,  4.2,  4.4,\n",
    "        4.6,  4.8,  5. ,  5.2,  5.4,  5.6,  5.8,  6. ,  6.2,  6.4,  6.6,\n",
    "        6.8,  7. ,  7.2,  7.4,  7.6,  7.8,  8. ,  8.2])\n",
    "\n",
    "#convert to m**-3 mm**-1\n",
    "#dsd=np.divide(dsd,bins_width)\n",
    "\n",
    "\n",
    "#Calculate rayleigh reflectivity\n",
    "#sum N(D)dD*D**6\n",
    "ray_Z=np.sum(np.multiply(dsd*np.diff(bins),np.power(bins_mid,6.)))\n",
    "\n",
    "\n",
    "#Define variable drop axis ratio\n",
    "# This is from Thurai et al., J. Atmos. Ocean Tech., 24, 2007\n",
    "def drop_ar(D_eq):\n",
    "    if D_eq < 0.7:\n",
    "        return 1.0;\n",
    "    elif D_eq < 1.5:\n",
    "        return 1.173 - 0.5165*D_eq + 0.4698*D_eq**2 - 0.1317*D_eq**3 - \\\n",
    "            8.5e-3*D_eq**4\n",
    "    else:\n",
    "        return 1.065 - 6.25e-2*D_eq - 3.99e-3*D_eq**2 + 7.66e-4*D_eq**3 - \\\n",
    "            4.095e-5*D_eq**4 \n",
    "\n",
    "scatterer = Scatterer(wavelength=tmatrix_aux.wl_C, m=refractive.m_w_10C[tmatrix_aux.wl_C])\n",
    "#scatterer = Scatterer(wavelength=6.5, m=complex(1.5,0.5), axis_ratio=1.0/0.6)\n",
    "scatterer.psd_integrator = psd.PSDIntegrator()\n",
    "#uncomment for using the axis ratio\n",
    "scatterer.psd_integrator.axis_ratio_func = lambda D: 1.0/drop_ar(D)\n",
    "scatterer.psd_integrator.D_max = 10.0\n",
    "scatterer.psd_integrator.geometries = (tmatrix_aux.geom_horiz_back, tmatrix_aux.geom_horiz_forw)\n",
    "scatterer.psd_integrator.init_scatter_table(scatterer)\n",
    "#scatterer.or_pdf = orientation.gaussian_pdf(20.0)\n",
    "scatterer.orient = orientation.orient_averaged_fixed\n",
    "scatterer.psd = psd.BinnedPSD(bins,dsd)\n",
    "scatterer.get_Z()\n",
    "print \"Rayleigh reflectivity (Z_e): \"+str(ray_Z)\n",
    "print \"Rayleigh reflectivity (dBZ_e): \"+str(10.*np.log10(ray_Z))\n",
    "print \"Horizontal reflectivity (Z_e): \"+str(radar.refl(scatterer))\n",
    "#convert to log units\n",
    "print \"Horizontal reflectivity factor (dBZ_e): \"+str(10.*np.log10(radar.refl(scatterer)))\n",
    "print \"Differential reflectivity (dB): \"+str(10.*np.log10(radar.Zdr(scatterer)))\n",
    "\n",
    "print \"Linear depolarization ratio (dB): \"+str(10.*np.log10(radar.ldr(scatterer)))\n",
    "print \"Rho_hv (unitless): \"+str(radar.rho_hv(scatterer))\n",
    "#need to set this for Kdp calculation to set geometry\n",
    "scatterer.set_geometry(tmatrix_aux.geom_horiz_forw)\n",
    "print \"Specific differential phase (deg/km): \"+str(radar.Kdp(scatterer))\n",
    "#convert into traditional sense; add 180.\n",
    "print \"Backscatter differential phase (deg/km): \"+str(180.+np.rad2deg(radar.delta_hv(scatterer)))\n",
    "\n",
    "print \"Specific attenuation (deg/km): \"+str(radar.Ai(scatterer))\n"
   ]
  },
  {
   "cell_type": "markdown",
   "metadata": {},
   "source": [
    "Plot the DSD."
   ]
  },
  {
   "cell_type": "code",
   "execution_count": 115,
   "metadata": {
    "collapsed": false
   },
   "outputs": [
    {
     "data": {
      "image/png": "[encoded data removed]",
      "text/plain": [
       "<matplotlib.figure.Figure at 0x7f72c28ba150>"
      ]
     },
     "metadata": {},
     "output_type": "display_data"
    }
   ],
   "source": [
    "plt.figure()\n",
    "plt.semilogy(bins_mid,dsd)\n",
    "plt.xlabel('Diameter (mm)')\n",
    "plt.ylabel(r'$N(D)dD$ (mm$^{-1}$ m$^{-3})$')\n",
    "plt.show()"
   ]
  },
  {
   "cell_type": "markdown",
   "metadata": {},
   "source": [
    "#Tarjea!\n",
    "\n",
    "1) Write a function that will calculate the scattering parameters for S, C, and X-Band for a given size distribution.\n",
    "\n",
    "2) Reproduce Figure 1 in Ryzhkov and Zrnic (2005). <a href=\"https://ams.confex.com/ams/32Rad11Meso/techprogram/paper_95684.htm\">link</a>  Note that these simulations are for single particles.\n",
    "\n",
    "3) Now, change the simulation to integrate over a Gamma particle size distribution with $N_w$=3 m$^{-4}$, $\\mu$=3, standard deviation of orientation of 7$^{\\circ}$ and vary $D_m$ over the range from 0.25-4.0 mm.  Does the behavior in scattering and absorption effects behave qualititatively similar to your answers in 2?"
   ]
  },
  {
   "cell_type": "markdown",
   "metadata": {},
   "source": [
    "##How might we get started?\n",
    "This exersise will require you to define a function in python, and iterate over values and store the model results.\n",
    "\n",
    "Python is an indented language and this will be important in both of these issues.\n",
    "\n",
    "Here is an example that plots the Kdp"
   ]
  },
  {
   "cell_type": "code",
   "execution_count": 149,
   "metadata": {
    "collapsed": false
   },
   "outputs": [
    {
     "data": {
      "text/plain": [
       "<matplotlib.legend.Legend at 0x7f72c1501610>"
      ]
     },
     "execution_count": 149,
     "metadata": {},
     "output_type": "execute_result"
    },
    {
     "data": {
      "image/png": "[encoded data removed]",
      "text/plain": [
       "<matplotlib.figure.Figure at 0x7f72c2ba3e50>"
      ]
     },
     "metadata": {},
     "output_type": "display_data"
    }
   ],
   "source": [
    "# initialize a scatterer object\n",
    "scatterer = Scatterer()\n",
    "scatterer.set_geometry(tmatrix_aux.geom_horiz_forw)\n",
    "\n",
    "# set up orientation averaging, Gaussian PDF with mean=0 and std=7 deg\n",
    "scatterer.or_pdf = orientation.gaussian_pdf(7.0)  # orientation PDF\n",
    "scatterer.orient = orientation.orient_averaged_fixed  # averaging method\n",
    "\n",
    "# set up PSD integration\n",
    "scatterer.psd_integrator = psd.PSDIntegrator()\n",
    "scatterer.psd_integrator.D_max = 8.0  # maximum diameter considered\n",
    "scatterer.psd_integrator.geometries = (tmatrix_aux.geom_horiz_forw,)\n",
    "scatterer.psd_integrator.axis_ratio_func = lambda D: 1.0/drop_ar(D)\n",
    "\n",
    "mu=3. #constant mu\n",
    "Nw=3. #m^-4\n",
    "Dm = np.linspace(0.25, 4.0, 200)  # range of Dm (mm)\n",
    "#lam = (4.0+mu)/Dm  # corresponding lambda parameters\n",
    "W = np.pi*1e3*(Dm/4.0)**4  # corresponding water content\n",
    "\n",
    "wavelengths = constants.c/np.array([3e9, 5.6e9, 10e9]) * 1e3  # in mm\n",
    "ref_indices = [complex(8.983, 0.989), complex(8.590, 1.670),\n",
    "               complex(7.718, 2.473)]\n",
    "labels = [\"3 GHz\", \"5.6 GHz\", \"10 GHz\"]\n",
    "styles = [\"-\", \"--\", \"-.\"]\n",
    "\n",
    "\n",
    "# this calculates Kdp for the given lambda parameter\n",
    "def get_Kdp(Dm=None,Nw=None,mu=None,D_max=None):\n",
    "    D0=((3.67+mu)/(4.+mu))*Dm\n",
    "    scatterer.psd = psd.GammaPSD(D0=D0, Nw=Nw, mu=mu, D_max=D_max)  # set exponential PSD\n",
    "    return radar.Kdp(scatterer)\n",
    "    ###HINT ADD OTHER RADAR PARAMETERS HERE\n",
    "\n",
    "###HINT DUPLICATE THE ABOVE TO CREATE A SCATTERING OBJECT WITH AN INDIVIDUAL PARTICLE WITH A GIVEN RADIUS\n",
    "\n",
    "plt.figure()\n",
    "for (wl, m, label, style) in zip(wavelengths, ref_indices, labels, styles):\n",
    "    scatterer.wavelength = wl\n",
    "    scatterer.m = m\n",
    "    # initialize lookup table\n",
    "    scatterer.psd_integrator.init_scatter_table(scatterer)\n",
    "    Kdp = np.array([get_Kdp(Dm=idm,Nw=Nw,mu=mu,D_max=8.) for idm in Dm])\n",
    "    plt.plot(Dm, 1e3*Kdp, ls=style, label=label)  # 1e3 for unit conversion to Kdp/km\n",
    "plt.xlabel(r\"$D_m$ $\\mathrm{(mm)}$\")\n",
    "plt.ylabel(r\"$K_{dp} (\\degree \\, km^{-1})$\")\n",
    "plt.legend(loc='best')"
   ]
  },
  {
   "cell_type": "code",
   "execution_count": null,
   "metadata": {
    "collapsed": false
   },
   "outputs": [],
   "source": []
  },
  {
   "cell_type": "code",
   "execution_count": null,
   "metadata": {
    "collapsed": true
   },
   "outputs": [],
   "source": []
  }
 ],
 "metadata": {
  "kernelspec": {
   "display_name": "Python 2",
   "language": "python",
   "name": "python2"
  },
  "language_info": {
   "codemirror_mode": {
    "name": "ipython",
    "version": 2
   },
   "file_extension": ".py",
   "mimetype": "text/x-python",
   "name": "python",
   "nbconvert_exporter": "python",
   "pygments_lexer": "ipython2",
   "version": "2.7.10"
  }
 },
 "nbformat": 4,
 "nbformat_minor": 0
}
